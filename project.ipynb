{
 "cells": [
  {
   "metadata": {
    "ExecuteTime": {
     "end_time": "2025-06-25T20:48:54.561178Z",
     "start_time": "2025-06-25T20:48:52.942788Z"
    }
   },
   "cell_type": "code",
   "source": [
    "# This command will install the correct numpy version for this notebook's environment\n",
    "%pip install numpy==1.26.4 --force-reinstall"
   ],
   "id": "b14e963714035342",
   "outputs": [
    {
     "name": "stdout",
     "output_type": "stream",
     "text": [
      "Collecting numpy==1.26.4\r\n",
      "  Using cached numpy-1.26.4-cp313-cp313-macosx_15_0_arm64.whl\r\n",
      "Installing collected packages: numpy\r\n",
      "  Attempting uninstall: numpy\r\n",
      "    Found existing installation: numpy 1.26.4\r\n",
      "    Uninstalling numpy-1.26.4:\r\n",
      "      Successfully uninstalled numpy-1.26.4\r\n",
      "Successfully installed numpy-1.26.4\r\n",
      "\r\n",
      "\u001B[1m[\u001B[0m\u001B[34;49mnotice\u001B[0m\u001B[1;39;49m]\u001B[0m\u001B[39;49m A new release of pip is available: \u001B[0m\u001B[31;49m24.3.1\u001B[0m\u001B[39;49m -> \u001B[0m\u001B[32;49m25.1.1\u001B[0m\r\n",
      "\u001B[1m[\u001B[0m\u001B[34;49mnotice\u001B[0m\u001B[1;39;49m]\u001B[0m\u001B[39;49m To update, run: \u001B[0m\u001B[32;49mpip install --upgrade pip\u001B[0m\r\n",
      "Note: you may need to restart the kernel to use updated packages.\n"
     ]
    }
   ],
   "execution_count": 1
  },
  {
   "metadata": {
    "ExecuteTime": {
     "end_time": "2025-06-25T20:48:55.062851Z",
     "start_time": "2025-06-25T20:48:54.627441Z"
    }
   },
   "cell_type": "code",
   "source": [
    "# Core Libraries\n",
    "import yfinance as yf\n",
    "import pandas as pd\n",
    "import numpy as np\n",
    "import pandas_ta as ta\n",
    "import joblib\n",
    "import os\n",
    "\n",
    "# Scikit-learn for modeling\n",
    "from sklearn.model_selection import TimeSeriesSplit\n",
    "from sklearn.ensemble import RandomForestClassifier\n",
    "from sklearn.metrics import accuracy_score, precision_score, classification_report, confusion_matrix\n",
    "\n",
    "# Visualization\n",
    "import seaborn as sns\n",
    "import matplotlib.pyplot as plt\n",
    "\n",
    "# --- ⚠️ Financial Disclaimer ---\n",
    "print(\"=\"*80)\n",
    "print(\"⚠️  IMPORTANT DISCLAIMER: This is a learning project, not financial advice. ⚠️\")\n",
    "print(\"Stock market prediction is extremely difficult. Do not use this agent with real money.\")\n",
    "print(\"=\"*80)"
   ],
   "id": "8e2f96faa4ee9cfe",
   "outputs": [
    {
     "name": "stdout",
     "output_type": "stream",
     "text": [
      "================================================================================\n",
      "⚠️  IMPORTANT DISCLAIMER: This is a learning project, not financial advice. ⚠️\n",
      "Stock market prediction is extremely difficult. Do not use this agent with real money.\n",
      "================================================================================\n"
     ]
    }
   ],
   "execution_count": 2
  },
  {
   "metadata": {
    "ExecuteTime": {
     "end_time": "2025-06-25T20:48:55.072931Z",
     "start_time": "2025-06-25T20:48:55.070999Z"
    }
   },
   "cell_type": "code",
   "source": [
    "# --- Configuration ---\n",
    "TICKER = \"TSLA\"  # Or whatever ticker you want\n",
    "TRAINING_PERIOD = \"10y\"\n",
    "MODEL_FILE_NAME = f\"{TICKER}_predictor_model.joblib\"\n",
    "\n",
    "print(f\"Configuration set for Ticker: {TICKER}\")"
   ],
   "id": "29d7ea75fef6d182",
   "outputs": [
    {
     "name": "stdout",
     "output_type": "stream",
     "text": [
      "Configuration set for Ticker: TSLA\n"
     ]
    }
   ],
   "execution_count": 3
  },
  {
   "metadata": {
    "ExecuteTime": {
     "end_time": "2025-06-25T20:48:55.087102Z",
     "start_time": "2025-06-25T20:48:55.085159Z"
    }
   },
   "cell_type": "code",
   "source": [
    "def create_features(df):\n",
    "    \"\"\"Creates technical analysis features on the dataframe.\"\"\"\n",
    "    df = df.copy()\n",
    "\n",
    "    # Technical Indicators using pandas_ta\n",
    "    df.ta.sma(length=20, append=True)\n",
    "    df.ta.ema(length=50, append=True)\n",
    "    df.ta.rsi(length=14, append=True)\n",
    "    df.ta.macd(fast=12, slow=26, signal=9, append=True)\n",
    "    df.ta.bbands(length=20, append=True) # Bollinger Bands\n",
    "    df.ta.atr(length=14, append=True) # Average True Range\n",
    "\n",
    "    # Create the target variable: 1 if the next day's close is higher, 0 otherwise\n",
    "    df['target'] = (df['Close'].shift(-1) > df['Close']).astype(int)\n",
    "\n",
    "    # Drop rows with NaN values created by indicators/shifting\n",
    "    df.dropna(inplace=True)\n",
    "\n",
    "    return df"
   ],
   "id": "8299538f4edbccdd",
   "outputs": [],
   "execution_count": 4
  },
  {
   "metadata": {
    "ExecuteTime": {
     "end_time": "2025-06-25T20:54:12.246737Z",
     "start_time": "2025-06-25T20:54:11.950539Z"
    }
   },
   "cell_type": "code",
   "source": [
    "# ==============================================================================\n",
    "#                 THE BULLETPROOF FIX: NUKE AND REBUILD\n",
    "# ==============================================================================\n",
    "\n",
    "# 1. Fetch Data (we still need the raw data)\n",
    "print(f\"Fetching {TRAINING_PERIOD} of historical data for {TICKER}...\")\n",
    "data = yf.download(\n",
    "    TICKER,\n",
    "    period=TRAINING_PERIOD,\n",
    "    interval=\"1d\",\n",
    "    progress=False\n",
    ")\n",
    "\n",
    "if data.empty:\n",
    "    print(f\"Error: No data found for {TICKER}.\")\n",
    "else:\n",
    "    print(\"Data fetched successfully.\")\n",
    "\n",
    "    # 2. NUKE AND REBUILD: Create a brand new, guaranteed-clean DataFrame.\n",
    "    print(\"\\nRebuilding DataFrame to ensure clean columns...\")\n",
    "\n",
    "    # Create an empty DataFrame but keep the original date index\n",
    "    clean_df = pd.DataFrame(index=data.index)\n",
    "\n",
    "    # Manually copy over ONLY the columns we need.\n",
    "    # Pandas is smart enough to find the right data even with a MultiIndex.\n",
    "    clean_df['Open'] = data['Open']\n",
    "    clean_df['High'] = data['High']\n",
    "    clean_df['Low'] = data['Low']\n",
    "    clean_df['Close'] = data['Close']\n",
    "    clean_df['Volume'] = data['Volume']\n",
    "\n",
    "    print(\"Clean DataFrame created successfully.\")\n",
    "    print(\"Columns are now guaranteed to be simple strings:\")\n",
    "    print(clean_df.columns)\n",
    "\n",
    "    # 3. Create Features using the GUARANTEED CLEAN DataFrame\n",
    "    print(\"\\nEngineering features...\")\n",
    "    # We pass 'clean_df' to the function, NOT the original 'data'.\n",
    "    featured_data = create_features(clean_df)\n",
    "    print(\"Features engineered successfully.\")\n",
    "\n",
    "    # Display the final result\n",
    "    display(featured_data.head())"
   ],
   "id": "6e0e0e1cc0e36f2e",
   "outputs": [
    {
     "name": "stdout",
     "output_type": "stream",
     "text": [
      "Fetching 10y of historical data for TSLA...\n"
     ]
    },
    {
     "name": "stderr",
     "output_type": "stream",
     "text": [
      "/var/folders/nb/l0pg_9815k993qn2p6z93clw0000gn/T/ipykernel_13042/3653702941.py:7: FutureWarning: YF.download() has changed argument auto_adjust default to True\n",
      "  data = yf.download(\n"
     ]
    },
    {
     "name": "stdout",
     "output_type": "stream",
     "text": [
      "Data fetched successfully.\n",
      "\n",
      "Rebuilding DataFrame to ensure clean columns...\n",
      "Clean DataFrame created successfully.\n",
      "Columns are now guaranteed to be simple strings:\n",
      "Index(['Open', 'High', 'Low', 'Close', 'Volume'], dtype='object')\n",
      "\n",
      "Engineering features...\n",
      "Features engineered successfully.\n"
     ]
    },
    {
     "data": {
      "text/plain": [
       "                 Open       High        Low      Close    Volume     SMA_20  \\\n",
       "Date                                                                          \n",
       "2015-09-04  16.059334  16.272667  15.880000  16.128668  55338000  16.081133   \n",
       "2015-09-08  16.336666  16.610666  16.270000  16.544666  47073000  16.104566   \n",
       "2015-09-09  16.803333  16.950001  16.553333  16.594000  50862000  16.143033   \n",
       "2015-09-10  16.482000  16.714666  16.355333  16.565332  40635000  16.177400   \n",
       "2015-09-11  16.509333  16.682667  16.315332  16.682667  35262000  16.203166   \n",
       "\n",
       "               EMA_50     RSI_14  MACD_12_26_9  MACDh_12_26_9  MACDs_12_26_9  \\\n",
       "Date                                                                           \n",
       "2015-09-04  17.029253  47.407798     -0.241057       0.109636      -0.350693   \n",
       "2015-09-08  17.010250  51.125865     -0.192289       0.126723      -0.319012   \n",
       "2015-09-09  16.993926  51.563193     -0.147954       0.136846      -0.284801   \n",
       "2015-09-10  16.977119  51.276066     -0.113820       0.136785      -0.250604   \n",
       "2015-09-11  16.965572  52.443323     -0.076419       0.139348      -0.215767   \n",
       "\n",
       "            BBL_20_2.0  BBM_20_2.0  BBU_20_2.0  BBB_20_2.0  BBP_20_2.0  \\\n",
       "Date                                                                     \n",
       "2015-09-04   14.648656   16.081133   17.513611   17.815630    0.516592   \n",
       "2015-09-08   14.657928   16.104566   17.551205   17.965569    0.652111   \n",
       "2015-09-09   14.687326   16.143033   17.598741   18.035118    0.654896   \n",
       "2015-09-10   14.715901   16.177400   17.638899   18.068403    0.632717   \n",
       "2015-09-11   14.725208   16.203166   17.681125   18.242839    0.662217   \n",
       "\n",
       "             ATRr_14  target  \n",
       "Date                          \n",
       "2015-09-04  0.747105       1  \n",
       "2015-09-08  0.727691       1  \n",
       "2015-09-09  0.704128       0  \n",
       "2015-09-10  0.678966       1  \n",
       "2015-09-11  0.656260       1  "
      ],
      "text/html": [
       "<div>\n",
       "<style scoped>\n",
       "    .dataframe tbody tr th:only-of-type {\n",
       "        vertical-align: middle;\n",
       "    }\n",
       "\n",
       "    .dataframe tbody tr th {\n",
       "        vertical-align: top;\n",
       "    }\n",
       "\n",
       "    .dataframe thead th {\n",
       "        text-align: right;\n",
       "    }\n",
       "</style>\n",
       "<table border=\"1\" class=\"dataframe\">\n",
       "  <thead>\n",
       "    <tr style=\"text-align: right;\">\n",
       "      <th></th>\n",
       "      <th>Open</th>\n",
       "      <th>High</th>\n",
       "      <th>Low</th>\n",
       "      <th>Close</th>\n",
       "      <th>Volume</th>\n",
       "      <th>SMA_20</th>\n",
       "      <th>EMA_50</th>\n",
       "      <th>RSI_14</th>\n",
       "      <th>MACD_12_26_9</th>\n",
       "      <th>MACDh_12_26_9</th>\n",
       "      <th>MACDs_12_26_9</th>\n",
       "      <th>BBL_20_2.0</th>\n",
       "      <th>BBM_20_2.0</th>\n",
       "      <th>BBU_20_2.0</th>\n",
       "      <th>BBB_20_2.0</th>\n",
       "      <th>BBP_20_2.0</th>\n",
       "      <th>ATRr_14</th>\n",
       "      <th>target</th>\n",
       "    </tr>\n",
       "    <tr>\n",
       "      <th>Date</th>\n",
       "      <th></th>\n",
       "      <th></th>\n",
       "      <th></th>\n",
       "      <th></th>\n",
       "      <th></th>\n",
       "      <th></th>\n",
       "      <th></th>\n",
       "      <th></th>\n",
       "      <th></th>\n",
       "      <th></th>\n",
       "      <th></th>\n",
       "      <th></th>\n",
       "      <th></th>\n",
       "      <th></th>\n",
       "      <th></th>\n",
       "      <th></th>\n",
       "      <th></th>\n",
       "      <th></th>\n",
       "    </tr>\n",
       "  </thead>\n",
       "  <tbody>\n",
       "    <tr>\n",
       "      <th>2015-09-04</th>\n",
       "      <td>16.059334</td>\n",
       "      <td>16.272667</td>\n",
       "      <td>15.880000</td>\n",
       "      <td>16.128668</td>\n",
       "      <td>55338000</td>\n",
       "      <td>16.081133</td>\n",
       "      <td>17.029253</td>\n",
       "      <td>47.407798</td>\n",
       "      <td>-0.241057</td>\n",
       "      <td>0.109636</td>\n",
       "      <td>-0.350693</td>\n",
       "      <td>14.648656</td>\n",
       "      <td>16.081133</td>\n",
       "      <td>17.513611</td>\n",
       "      <td>17.815630</td>\n",
       "      <td>0.516592</td>\n",
       "      <td>0.747105</td>\n",
       "      <td>1</td>\n",
       "    </tr>\n",
       "    <tr>\n",
       "      <th>2015-09-08</th>\n",
       "      <td>16.336666</td>\n",
       "      <td>16.610666</td>\n",
       "      <td>16.270000</td>\n",
       "      <td>16.544666</td>\n",
       "      <td>47073000</td>\n",
       "      <td>16.104566</td>\n",
       "      <td>17.010250</td>\n",
       "      <td>51.125865</td>\n",
       "      <td>-0.192289</td>\n",
       "      <td>0.126723</td>\n",
       "      <td>-0.319012</td>\n",
       "      <td>14.657928</td>\n",
       "      <td>16.104566</td>\n",
       "      <td>17.551205</td>\n",
       "      <td>17.965569</td>\n",
       "      <td>0.652111</td>\n",
       "      <td>0.727691</td>\n",
       "      <td>1</td>\n",
       "    </tr>\n",
       "    <tr>\n",
       "      <th>2015-09-09</th>\n",
       "      <td>16.803333</td>\n",
       "      <td>16.950001</td>\n",
       "      <td>16.553333</td>\n",
       "      <td>16.594000</td>\n",
       "      <td>50862000</td>\n",
       "      <td>16.143033</td>\n",
       "      <td>16.993926</td>\n",
       "      <td>51.563193</td>\n",
       "      <td>-0.147954</td>\n",
       "      <td>0.136846</td>\n",
       "      <td>-0.284801</td>\n",
       "      <td>14.687326</td>\n",
       "      <td>16.143033</td>\n",
       "      <td>17.598741</td>\n",
       "      <td>18.035118</td>\n",
       "      <td>0.654896</td>\n",
       "      <td>0.704128</td>\n",
       "      <td>0</td>\n",
       "    </tr>\n",
       "    <tr>\n",
       "      <th>2015-09-10</th>\n",
       "      <td>16.482000</td>\n",
       "      <td>16.714666</td>\n",
       "      <td>16.355333</td>\n",
       "      <td>16.565332</td>\n",
       "      <td>40635000</td>\n",
       "      <td>16.177400</td>\n",
       "      <td>16.977119</td>\n",
       "      <td>51.276066</td>\n",
       "      <td>-0.113820</td>\n",
       "      <td>0.136785</td>\n",
       "      <td>-0.250604</td>\n",
       "      <td>14.715901</td>\n",
       "      <td>16.177400</td>\n",
       "      <td>17.638899</td>\n",
       "      <td>18.068403</td>\n",
       "      <td>0.632717</td>\n",
       "      <td>0.678966</td>\n",
       "      <td>1</td>\n",
       "    </tr>\n",
       "    <tr>\n",
       "      <th>2015-09-11</th>\n",
       "      <td>16.509333</td>\n",
       "      <td>16.682667</td>\n",
       "      <td>16.315332</td>\n",
       "      <td>16.682667</td>\n",
       "      <td>35262000</td>\n",
       "      <td>16.203166</td>\n",
       "      <td>16.965572</td>\n",
       "      <td>52.443323</td>\n",
       "      <td>-0.076419</td>\n",
       "      <td>0.139348</td>\n",
       "      <td>-0.215767</td>\n",
       "      <td>14.725208</td>\n",
       "      <td>16.203166</td>\n",
       "      <td>17.681125</td>\n",
       "      <td>18.242839</td>\n",
       "      <td>0.662217</td>\n",
       "      <td>0.656260</td>\n",
       "      <td>1</td>\n",
       "    </tr>\n",
       "  </tbody>\n",
       "</table>\n",
       "</div>"
      ]
     },
     "metadata": {},
     "output_type": "display_data"
    }
   ],
   "execution_count": 10
  },
  {
   "metadata": {
    "ExecuteTime": {
     "end_time": "2025-06-25T20:54:16.783635Z",
     "start_time": "2025-06-25T20:54:16.777639Z"
    }
   },
   "cell_type": "code",
   "source": [
    "# We want to predict the 'target' using all other columns except these\n",
    "features_to_exclude = ['Open', 'High', 'Low', 'Close', 'Volume', 'Dividends', 'Stock Splits', 'target']\n",
    "features = [col for col in featured_data.columns if col not in features_to_exclude]\n",
    "\n",
    "X = featured_data[features]\n",
    "y = featured_data['target']\n",
    "\n",
    "print(f\"Training with {len(features)} features:\")\n",
    "print(features)"
   ],
   "id": "ae1abce8900c2c7f",
   "outputs": [
    {
     "name": "stdout",
     "output_type": "stream",
     "text": [
      "Training with 12 features:\n",
      "['SMA_20', 'EMA_50', 'RSI_14', 'MACD_12_26_9', 'MACDh_12_26_9', 'MACDs_12_26_9', 'BBL_20_2.0', 'BBM_20_2.0', 'BBU_20_2.0', 'BBB_20_2.0', 'BBP_20_2.0', 'ATRr_14']\n"
     ]
    }
   ],
   "execution_count": 11
  },
  {
   "metadata": {
    "ExecuteTime": {
     "end_time": "2025-06-25T20:54:19.318181Z",
     "start_time": "2025-06-25T20:54:18.542401Z"
    }
   },
   "cell_type": "code",
   "source": [
    "# Use TimeSeriesSplit for cross-validation on time-series data\n",
    "tscv = TimeSeriesSplit(n_splits=5)\n",
    "model = RandomForestClassifier(n_estimators=150, random_state=42, n_jobs=-1)\n",
    "\n",
    "print(\"\\n--- Evaluating Model with Time Series Cross-Validation ---\")\n",
    "for i, (train_index, test_index) in enumerate(tscv.split(X)):\n",
    "    X_train, X_test = X.iloc[train_index], X.iloc[test_index]\n",
    "    y_train, y_test = y.iloc[train_index], y.iloc[test_index]\n",
    "\n",
    "    model.fit(X_train, y_train)\n",
    "    predictions = model.predict(X_test)\n",
    "\n",
    "    accuracy = accuracy_score(y_test, predictions)\n",
    "    precision = precision_score(y_test, predictions, zero_division=0)\n",
    "\n",
    "    print(f\"Fold {i+1} -> Accuracy: {accuracy:.3f}, Precision (for 'UP'): {precision:.3f}\")\n",
    "\n",
    "print(\"\\n--- Final Test Set Evaluation (on the most recent data) ---\")\n",
    "print(\"Classification Report:\")\n",
    "print(classification_report(y_test, predictions))\n",
    "\n",
    "print(\"\\nConfusion Matrix:\")\n",
    "cm = confusion_matrix(y_test, predictions)\n",
    "plt.figure(figsize=(6,5))\n",
    "sns.heatmap(cm, annot=True, fmt='d', cmap='Blues', xticklabels=['Down', 'Up'], yticklabels=['Down', 'Up'])\n",
    "plt.xlabel('Predicted')\n",
    "plt.ylabel('Actual')\n",
    "plt.title('Confusion Matrix for the Last Test Fold')\n",
    "plt.show()"
   ],
   "id": "671dde4a74788efd",
   "outputs": [
    {
     "name": "stdout",
     "output_type": "stream",
     "text": [
      "\n",
      "--- Evaluating Model with Time Series Cross-Validation ---\n",
      "Fold 1 -> Accuracy: 0.522, Precision (for 'UP'): 0.509\n",
      "Fold 2 -> Accuracy: 0.461, Precision (for 'UP'): 0.488\n",
      "Fold 3 -> Accuracy: 0.488, Precision (for 'UP'): 0.542\n",
      "Fold 4 -> Accuracy: 0.507, Precision (for 'UP'): 0.521\n",
      "Fold 5 -> Accuracy: 0.520, Precision (for 'UP'): 0.519\n",
      "\n",
      "--- Final Test Set Evaluation (on the most recent data) ---\n",
      "Classification Report:\n",
      "              precision    recall  f1-score   support\n",
      "\n",
      "           0       0.52      0.44      0.47       204\n",
      "           1       0.52      0.60      0.56       206\n",
      "\n",
      "    accuracy                           0.52       410\n",
      "   macro avg       0.52      0.52      0.52       410\n",
      "weighted avg       0.52      0.52      0.52       410\n",
      "\n",
      "\n",
      "Confusion Matrix:\n"
     ]
    },
    {
     "data": {
      "text/plain": [
       "<Figure size 600x500 with 2 Axes>"
      ],
      "image/png": "[encoded data removed]"
     },
     "metadata": {},
     "output_type": "display_data"
    }
   ],
   "execution_count": 12
  },
  {
   "metadata": {
    "ExecuteTime": {
     "end_time": "2025-06-25T20:54:22.666063Z",
     "start_time": "2025-06-25T20:54:22.468571Z"
    }
   },
   "cell_type": "code",
   "source": [
    "print(\"--- Training Final Model on All Available Data ---\")\n",
    "model.fit(X, y)\n",
    "\n",
    "# Save the model AND the list of features it was trained on in a single file\n",
    "model_payload = {'model': model, 'features': features}\n",
    "joblib.dump(model_payload, MODEL_FILE_NAME)\n",
    "\n",
    "print(f\"\\n✅ Model trained and saved as '{MODEL_FILE_NAME}'\")"
   ],
   "id": "7b119cb5f46afe34",
   "outputs": [
    {
     "name": "stdout",
     "output_type": "stream",
     "text": [
      "--- Training Final Model on All Available Data ---\n",
      "\n",
      "✅ Model trained and saved as 'TSLA_predictor_model.joblib'\n"
     ]
    }
   ],
   "execution_count": 13
  },
  {
   "metadata": {
    "ExecuteTime": {
     "end_time": "2025-06-25T20:57:03.704395Z",
     "start_time": "2025-06-25T20:57:03.510611Z"
    }
   },
   "cell_type": "code",
   "source": [
    "# ==============================================================================\n",
    "#           THE FINAL, FINAL, CORRECTED get_live_prediction FUNCTION\n",
    "# ==============================================================================\n",
    "\n",
    "def get_live_prediction(ticker_symbol):\n",
    "    \"\"\"Loads the model and makes a prediction for the given ticker.\"\"\"\n",
    "    model_filename = f\"{ticker_symbol}_predictor_model.joblib\"\n",
    "\n",
    "    # 1. Load the Model\n",
    "    try:\n",
    "        model_payload = joblib.load(model_filename)\n",
    "        model = model_payload['model']\n",
    "        features = model_payload['features']\n",
    "        print(f\"✅ Model for {ticker_symbol} loaded successfully.\")\n",
    "    except FileNotFoundError:\n",
    "        print(f\"❌ Error: Model file '{model_filename}' not found.\")\n",
    "        print(\"Please run the training cells first.\")\n",
    "        return\n",
    "\n",
    "    # 2. Fetch latest data\n",
    "    print(\"Fetching new data...\")\n",
    "    data = yf.download(\n",
    "        ticker_symbol,\n",
    "        period=\"100d\",\n",
    "        interval=\"1d\",\n",
    "        progress=False\n",
    "    )\n",
    "\n",
    "    if data.empty:\n",
    "        print(\"Could not fetch data.\")\n",
    "        return\n",
    "\n",
    "    # Rebuild the DataFrame to ensure its columns are clean\n",
    "    print(\"Rebuilding DataFrame to ensure clean columns...\")\n",
    "    clean_df = pd.DataFrame(index=data.index)\n",
    "    clean_df['Open'] = data['Open']\n",
    "    clean_df['High'] = data['High']\n",
    "    clean_df['Low'] = data['Low']\n",
    "    clean_df['Close'] = data['Close']\n",
    "    clean_df['Volume'] = data['Volume']\n",
    "    print(\"Clean DataFrame created successfully.\")\n",
    "\n",
    "    # 3. Engineer Features on the GUARANTEED CLEAN DataFrame\n",
    "    data_feat = clean_df.copy()\n",
    "    data_feat.ta.sma(length=20, append=True)\n",
    "    data_feat.ta.ema(length=50, append=True)\n",
    "    data_feat.ta.rsi(length=14, append=True)\n",
    "    data_feat.ta.macd(fast=12, slow=26, signal=9, append=True)\n",
    "    data_feat.ta.bbands(length=20, append=True)\n",
    "    data_feat.ta.atr(length=14, append=True)\n",
    "    data_feat.dropna(inplace=True)\n",
    "\n",
    "    # 4. Get the most recent data point for prediction\n",
    "    last_row = data_feat[features].iloc[[-1]]\n",
    "\n",
    "    # 5. Make Prediction\n",
    "    prediction = model.predict(last_row)[0]\n",
    "    prediction_proba = model.predict_proba(last_row)[0]\n",
    "\n",
    "    # --- THIS IS THE CORRECTED LINE ---\n",
    "    # Get the last close price from our clean DataFrame.\n",
    "    current_price = clean_df['Close'].iloc[-1]\n",
    "    # ------------------------------------\n",
    "\n",
    "    # 6. Display Results\n",
    "    print(\"\\n\" + \"=\"*50)\n",
    "    print(f\"Prediction for: {ticker_symbol}\")\n",
    "    print(f\"Last Close Price: ${current_price:.2f}\") # This will now work\n",
    "\n",
    "    if prediction == 1:\n",
    "        confidence = prediction_proba[1]\n",
    "        print(f\"Prediction: 📈 UP (for the next trading day)\")\n",
    "        print(f\"Confidence: {confidence:.2%}\")\n",
    "    else:\n",
    "        confidence = prediction_proba[0]\n",
    "        print(f\"Prediction: 📉 DOWN (for the next trading day)\")\n",
    "        print(f\"Confidence: {confidence:.2%}\")\n",
    "    print(\"=\"*50)\n",
    "\n",
    "# --- Execute the prediction function ---\n",
    "get_live_prediction(TICKER)"
   ],
   "id": "c53da246c0d9d57",
   "outputs": [
    {
     "name": "stdout",
     "output_type": "stream",
     "text": [
      "✅ Model for TSLA loaded successfully.\n",
      "Fetching new data...\n",
      "Rebuilding DataFrame to ensure clean columns...\n",
      "Clean DataFrame created successfully.\n",
      "\n",
      "==================================================\n",
      "Prediction for: TSLA\n",
      "Last Close Price: $327.55\n",
      "Prediction: 📉 DOWN (for the next trading day)\n",
      "Confidence: 82.00%\n",
      "==================================================\n"
     ]
    },
    {
     "name": "stderr",
     "output_type": "stream",
     "text": [
      "/var/folders/nb/l0pg_9815k993qn2p6z93clw0000gn/T/ipykernel_13042/184635294.py:22: FutureWarning: YF.download() has changed argument auto_adjust default to True\n",
      "  data = yf.download(\n"
     ]
    }
   ],
   "execution_count": 17
  }
 ],
 "metadata": {},
 "nbformat": 4,
 "nbformat_minor": 5
}
